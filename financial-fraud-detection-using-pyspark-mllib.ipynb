{
 "cells": [
  {
   "cell_type": "code",
   "execution_count": 1,
   "id": "52171f2c",
   "metadata": {
    "execution": {
     "iopub.execute_input": "2021-12-24T14:15:53.033348Z",
     "iopub.status.busy": "2021-12-24T14:15:53.032055Z",
     "iopub.status.idle": "2021-12-24T14:16:41.788819Z",
     "shell.execute_reply": "2021-12-24T14:16:41.789374Z",
     "shell.execute_reply.started": "2021-12-24T14:03:30.398217Z"
    },
    "papermill": {
     "duration": 48.825084,
     "end_time": "2021-12-24T14:16:41.789764",
     "exception": false,
     "start_time": "2021-12-24T14:15:52.964680",
     "status": "completed"
    },
    "tags": []
   },
   "outputs": [
    {
     "name": "stdout",
     "output_type": "stream",
     "text": [
      "Requirement already satisfied: pyspark in c:\\users\\arya bhatt\\anaconda3\\lib\\site-packages (3.5.1)\n",
      "Requirement already satisfied: py4j==0.10.9.7 in c:\\users\\arya bhatt\\anaconda3\\lib\\site-packages (from pyspark) (0.10.9.7)\n"
     ]
    },
    {
     "name": "stderr",
     "output_type": "stream",
     "text": [
      "DEPRECATION: mermaid 0.3.2 has a non-standard dependency specifier torch>=1.7torchvision. pip 23.3 will enforce this behaviour change. A possible replacement is to upgrade to a newer version of mermaid or contact the author to suggest that they release a version with a conforming dependency specifiers. Discussion can be found at https://github.com/pypa/pip/issues/12063\n"
     ]
    }
   ],
   "source": [
    "!pip install pyspark"
   ]
  },
  {
   "cell_type": "code",
   "execution_count": 2,
   "id": "e7205ec6",
   "metadata": {
    "execution": {
     "iopub.execute_input": "2021-12-24T14:16:42.285753Z",
     "iopub.status.busy": "2021-12-24T14:16:42.285019Z",
     "iopub.status.idle": "2021-12-24T14:16:48.025685Z",
     "shell.execute_reply": "2021-12-24T14:16:48.024571Z",
     "shell.execute_reply.started": "2021-12-24T14:04:16.894373Z"
    },
    "papermill": {
     "duration": 6.03048,
     "end_time": "2021-12-24T14:16:48.025943",
     "exception": false,
     "start_time": "2021-12-24T14:16:41.995463",
     "status": "completed"
    },
    "tags": []
   },
   "outputs": [],
   "source": [
    "#load_ext nb_black\n",
    "from pyspark.sql import SparkSession\n",
    "#session all related to df not rdd\n",
    "import pyspark.sql.functions as F\n",
    "import pyspark.sql.types as T\n",
    "\n",
    "spark = SparkSession.builder.getOrCreate()"
   ]
  },
  {
   "cell_type": "markdown",
   "id": "358c7521",
   "metadata": {
    "papermill": {
     "duration": 0.19775,
     "end_time": "2021-12-24T14:16:48.424730",
     "exception": false,
     "start_time": "2021-12-24T14:16:48.226980",
     "status": "completed"
    },
    "tags": []
   },
   "source": []
  },
  {
   "cell_type": "code",
   "execution_count": 3,
   "id": "94ccb2c4",
   "metadata": {
    "execution": {
     "iopub.execute_input": "2021-12-24T14:16:48.829372Z",
     "iopub.status.busy": "2021-12-24T14:16:48.828575Z",
     "iopub.status.idle": "2021-12-24T14:16:49.923584Z",
     "shell.execute_reply": "2021-12-24T14:16:49.924464Z",
     "shell.execute_reply.started": "2021-12-24T14:04:22.139960Z"
    },
    "papermill": {
     "duration": 1.301286,
     "end_time": "2021-12-24T14:16:49.924742",
     "exception": false,
     "start_time": "2021-12-24T14:16:48.623456",
     "status": "completed"
    },
    "tags": []
   },
   "outputs": [
    {
     "data": {
      "text/html": [
       "\n",
       "            <div>\n",
       "                <p><b>SparkSession - in-memory</b></p>\n",
       "                \n",
       "        <div>\n",
       "            <p><b>SparkContext</b></p>\n",
       "\n",
       "            <p><a href=\"http://lappy-zeppy:4040\">Spark UI</a></p>\n",
       "\n",
       "            <dl>\n",
       "              <dt>Version</dt>\n",
       "                <dd><code>v3.5.1</code></dd>\n",
       "              <dt>Master</dt>\n",
       "                <dd><code>local[*]</code></dd>\n",
       "              <dt>AppName</dt>\n",
       "                <dd><code>pyspark-shell</code></dd>\n",
       "            </dl>\n",
       "        </div>\n",
       "        \n",
       "            </div>\n",
       "        "
      ],
      "text/plain": [
       "<pyspark.sql.session.SparkSession at 0x1e65d8034d0>"
      ]
     },
     "execution_count": 3,
     "metadata": {},
     "output_type": "execute_result"
    }
   ],
   "source": [
    "spark"
   ]
  },
  {
   "cell_type": "code",
   "execution_count": 4,
   "id": "0817d088",
   "metadata": {
    "execution": {
     "iopub.execute_input": "2021-12-24T14:16:51.117223Z",
     "iopub.status.busy": "2021-12-24T14:16:51.116506Z",
     "iopub.status.idle": "2021-12-24T14:17:08.332940Z",
     "shell.execute_reply": "2021-12-24T14:17:08.332265Z",
     "shell.execute_reply.started": "2021-12-24T14:04:23.047322Z"
    },
    "papermill": {
     "duration": 17.406737,
     "end_time": "2021-12-24T14:17:08.333095",
     "exception": false,
     "start_time": "2021-12-24T14:16:50.926358",
     "status": "completed"
    },
    "tags": []
   },
   "outputs": [],
   "source": [
    "df = spark.read.csv(\"bank_details.csv\", inferSchema=True, header=True)"
   ]
  },
  {
   "cell_type": "code",
   "execution_count": 5,
   "id": "9f251064",
   "metadata": {
    "execution": {
     "iopub.execute_input": "2021-12-24T14:17:08.749535Z",
     "iopub.status.busy": "2021-12-24T14:17:08.748683Z",
     "iopub.status.idle": "2021-12-24T14:17:08.767005Z",
     "shell.execute_reply": "2021-12-24T14:17:08.768091Z",
     "shell.execute_reply.started": "2021-12-24T14:04:37.984025Z"
    },
    "papermill": {
     "duration": 0.240248,
     "end_time": "2021-12-24T14:17:08.768429",
     "exception": false,
     "start_time": "2021-12-24T14:17:08.528181",
     "status": "completed"
    },
    "tags": []
   },
   "outputs": [
    {
     "name": "stdout",
     "output_type": "stream",
     "text": [
      "root\n",
      " |-- step: integer (nullable = true)\n",
      " |-- type: string (nullable = true)\n",
      " |-- amount: double (nullable = true)\n",
      " |-- nameOrig: string (nullable = true)\n",
      " |-- oldbalanceOrg: double (nullable = true)\n",
      " |-- newbalanceOrig: double (nullable = true)\n",
      " |-- nameDest: string (nullable = true)\n",
      " |-- oldbalanceDest: double (nullable = true)\n",
      " |-- newbalanceDest: double (nullable = true)\n",
      " |-- isFraud: integer (nullable = true)\n",
      " |-- isFlaggedFraud: integer (nullable = true)\n",
      "\n"
     ]
    }
   ],
   "source": [
    "df.printSchema()"
   ]
  },
  {
   "cell_type": "code",
   "execution_count": 6,
   "id": "b04323a8",
   "metadata": {
    "execution": {
     "iopub.execute_input": "2021-12-24T14:17:09.160063Z",
     "iopub.status.busy": "2021-12-24T14:17:09.158901Z",
     "iopub.status.idle": "2021-12-24T14:17:09.636968Z",
     "shell.execute_reply": "2021-12-24T14:17:09.637731Z",
     "shell.execute_reply.started": "2021-12-24T14:04:38.003344Z"
    },
    "papermill": {
     "duration": 0.675728,
     "end_time": "2021-12-24T14:17:09.638050",
     "exception": false,
     "start_time": "2021-12-24T14:17:08.962322",
     "status": "completed"
    },
    "tags": []
   },
   "outputs": [
    {
     "name": "stdout",
     "output_type": "stream",
     "text": [
      "+----+-------+-------+-----------+-------------+--------------+-----------+--------------+--------------+-------+--------------+\n",
      "|step|   type| amount|   nameOrig|oldbalanceOrg|newbalanceOrig|   nameDest|oldbalanceDest|newbalanceDest|isFraud|isFlaggedFraud|\n",
      "+----+-------+-------+-----------+-------------+--------------+-----------+--------------+--------------+-------+--------------+\n",
      "|   1|PAYMENT|9839.64|C1231006815|     170136.0|     160296.36|M1979787155|           0.0|           0.0|      0|             0|\n",
      "|   1|PAYMENT|1864.28|C1666544295|      21249.0|      19384.72|M2044282225|           0.0|           0.0|      0|             0|\n",
      "+----+-------+-------+-----------+-------------+--------------+-----------+--------------+--------------+-------+--------------+\n",
      "only showing top 2 rows\n",
      "\n"
     ]
    }
   ],
   "source": [
    "df.show(2)"
   ]
  },
  {
   "cell_type": "markdown",
   "id": "1cd36ba9",
   "metadata": {
    "papermill": {
     "duration": 0.19354,
     "end_time": "2021-12-24T14:17:10.036506",
     "exception": false,
     "start_time": "2021-12-24T14:17:09.842966",
     "status": "completed"
    },
    "tags": []
   },
   "source": [
    "Drop columns from the data :\n",
    "* In any machine learning project, we always have a few columns that are not required for solving the problem.\n",
    "\n",
    "for instance, we can use the drop function to remove the column from the data. Use the asterisk (*) sign before the list to drop multiple columns from the dataset:\n",
    "my_data = my_data.drop(*['Batsman', 'Bowler', 'Id'])\n",
    "my_data.columns"
   ]
  },
  {
   "cell_type": "markdown",
   "id": "d751e08e",
   "metadata": {
    "papermill": {
     "duration": 0.190604,
     "end_time": "2021-12-24T14:17:10.418776",
     "exception": false,
     "start_time": "2021-12-24T14:17:10.228172",
     "status": "completed"
    },
    "tags": []
   },
   "source": [
    "For our instance ,we don't really need \" nameOrig \" , \" nameDest \" , \" oldbalanceDest \" , \" oldbalanceDest \" ,\" newbalanceDest \" ,we really don't need these as these are not the factors which affects the frud data or not."
   ]
  },
  {
   "cell_type": "code",
   "execution_count": 7,
   "id": "c33ffedc",
   "metadata": {
    "execution": {
     "iopub.execute_input": "2021-12-24T14:17:10.808787Z",
     "iopub.status.busy": "2021-12-24T14:17:10.807717Z",
     "iopub.status.idle": "2021-12-24T14:17:10.846575Z",
     "shell.execute_reply": "2021-12-24T14:17:10.845933Z",
     "shell.execute_reply.started": "2021-12-24T14:04:38.562308Z"
    },
    "papermill": {
     "duration": 0.23451,
     "end_time": "2021-12-24T14:17:10.846733",
     "exception": false,
     "start_time": "2021-12-24T14:17:10.612223",
     "status": "completed"
    },
    "tags": []
   },
   "outputs": [],
   "source": [
    "df = df.select(\"type\", \"amount\", \"oldbalanceOrg\", \"newbalanceOrig\", \"isFraud\")"
   ]
  },
  {
   "cell_type": "markdown",
   "id": "1885e560",
   "metadata": {
    "papermill": {
     "duration": 0.190877,
     "end_time": "2021-12-24T14:17:11.611177",
     "exception": false,
     "start_time": "2021-12-24T14:17:11.420300",
     "status": "completed"
    },
    "tags": []
   },
   "source": [
    "we are only slecting some colum which is an alternative for droping a colum rather ,efficent."
   ]
  },
  {
   "cell_type": "code",
   "execution_count": 8,
   "id": "07e12e00",
   "metadata": {
    "execution": {
     "iopub.execute_input": "2021-12-24T14:17:12.004850Z",
     "iopub.status.busy": "2021-12-24T14:17:12.003670Z",
     "iopub.status.idle": "2021-12-24T14:17:12.277593Z",
     "shell.execute_reply": "2021-12-24T14:17:12.278450Z",
     "shell.execute_reply.started": "2021-12-24T14:04:38.609080Z"
    },
    "papermill": {
     "duration": 0.476628,
     "end_time": "2021-12-24T14:17:12.278732",
     "exception": false,
     "start_time": "2021-12-24T14:17:11.802104",
     "status": "completed"
    },
    "tags": []
   },
   "outputs": [
    {
     "name": "stdout",
     "output_type": "stream",
     "text": [
      "+-------+-------+-------------+--------------+-------+\n",
      "|   type| amount|oldbalanceOrg|newbalanceOrig|isFraud|\n",
      "+-------+-------+-------------+--------------+-------+\n",
      "|PAYMENT|9839.64|     170136.0|     160296.36|      0|\n",
      "|PAYMENT|1864.28|      21249.0|      19384.72|      0|\n",
      "+-------+-------+-------------+--------------+-------+\n",
      "only showing top 2 rows\n",
      "\n"
     ]
    }
   ],
   "source": [
    "df.show(2)"
   ]
  },
  {
   "cell_type": "code",
   "execution_count": 9,
   "id": "39cb6b78",
   "metadata": {
    "execution": {
     "iopub.execute_input": "2021-12-24T14:17:12.687339Z",
     "iopub.status.busy": "2021-12-24T14:17:12.686212Z",
     "iopub.status.idle": "2021-12-24T14:17:12.690090Z",
     "shell.execute_reply": "2021-12-24T14:17:12.690783Z",
     "shell.execute_reply.started": "2021-12-24T14:04:38.867847Z"
    },
    "papermill": {
     "duration": 0.213293,
     "end_time": "2021-12-24T14:17:12.691028",
     "exception": false,
     "start_time": "2021-12-24T14:17:12.477735",
     "status": "completed"
    },
    "tags": []
   },
   "outputs": [
    {
     "name": "stdout",
     "output_type": "stream",
     "text": [
      "root\n",
      " |-- type: string (nullable = true)\n",
      " |-- amount: double (nullable = true)\n",
      " |-- oldbalanceOrg: double (nullable = true)\n",
      " |-- newbalanceOrig: double (nullable = true)\n",
      " |-- isFraud: integer (nullable = true)\n",
      "\n"
     ]
    }
   ],
   "source": [
    "df.printSchema()"
   ]
  },
  {
   "cell_type": "markdown",
   "id": "2d291eae",
   "metadata": {
    "papermill": {
     "duration": 0.194263,
     "end_time": "2021-12-24T14:17:13.087488",
     "exception": false,
     "start_time": "2021-12-24T14:17:12.893225",
     "status": "completed"
    },
    "tags": []
   },
   "source": [
    "## Data Dimensions "
   ]
  },
  {
   "cell_type": "code",
   "execution_count": 10,
   "id": "57bef4fa",
   "metadata": {
    "execution": {
     "iopub.execute_input": "2021-12-24T14:17:13.484487Z",
     "iopub.status.busy": "2021-12-24T14:17:13.483753Z",
     "iopub.status.idle": "2021-12-24T14:17:16.621500Z",
     "shell.execute_reply": "2021-12-24T14:17:16.622076Z",
     "shell.execute_reply.started": "2021-12-24T14:04:38.881160Z"
    },
    "papermill": {
     "duration": 3.338687,
     "end_time": "2021-12-24T14:17:16.622279",
     "exception": false,
     "start_time": "2021-12-24T14:17:13.283592",
     "status": "completed"
    },
    "tags": []
   },
   "outputs": [
    {
     "data": {
      "text/plain": [
       "(6362620, 5)"
      ]
     },
     "execution_count": 10,
     "metadata": {},
     "output_type": "execute_result"
    }
   ],
   "source": [
    "(df.count() , len(df.columns))"
   ]
  },
  {
   "cell_type": "code",
   "execution_count": 11,
   "id": "5f9288ce",
   "metadata": {
    "execution": {
     "iopub.execute_input": "2021-12-24T14:17:17.030144Z",
     "iopub.status.busy": "2021-12-24T14:17:17.029093Z",
     "iopub.status.idle": "2021-12-24T14:17:25.925700Z",
     "shell.execute_reply": "2021-12-24T14:17:25.926474Z",
     "shell.execute_reply.started": "2021-12-24T14:04:41.367165Z"
    },
    "papermill": {
     "duration": 9.102669,
     "end_time": "2021-12-24T14:17:25.926715",
     "exception": false,
     "start_time": "2021-12-24T14:17:16.824046",
     "status": "completed"
    },
    "tags": []
   },
   "outputs": [
    {
     "name": "stdout",
     "output_type": "stream",
     "text": [
      "+-------+------------------+------------------+-----------------+--------------------+\n",
      "|summary|            amount|     oldbalanceOrg|   newbalanceOrig|             isFraud|\n",
      "+-------+------------------+------------------+-----------------+--------------------+\n",
      "|  count|           6362620|           6362620|          6362620|             6362620|\n",
      "|   mean|179861.90354913156| 833883.1040744876|855113.6685785913|0.001290820448180152|\n",
      "| stddev| 603858.2314629381|2888242.6730375625|2924048.502954259|  0.0359047968016041|\n",
      "|    min|               0.0|               0.0|              0.0|                   0|\n",
      "|    max|     9.244551664E7|     5.958504037E7|    4.958504037E7|                   1|\n",
      "+-------+------------------+------------------+-----------------+--------------------+\n",
      "\n"
     ]
    }
   ],
   "source": [
    "df.select('amount','oldbalanceOrg','newbalanceOrig','isFraud').describe().show()"
   ]
  },
  {
   "cell_type": "code",
   "execution_count": 12,
   "id": "038ba314",
   "metadata": {
    "execution": {
     "iopub.execute_input": "2021-12-24T14:17:26.331605Z",
     "iopub.status.busy": "2021-12-24T14:17:26.330664Z",
     "iopub.status.idle": "2021-12-24T14:17:33.885520Z",
     "shell.execute_reply": "2021-12-24T14:17:33.884535Z",
     "shell.execute_reply.started": "2021-12-24T14:04:48.322275Z"
    },
    "papermill": {
     "duration": 7.757692,
     "end_time": "2021-12-24T14:17:33.885725",
     "exception": false,
     "start_time": "2021-12-24T14:17:26.128033",
     "status": "completed"
    },
    "tags": []
   },
   "outputs": [
    {
     "name": "stdout",
     "output_type": "stream",
     "text": [
      "+----+------+-------------+--------------+-------+\n",
      "|type|amount|oldbalanceOrg|newbalanceOrig|isFraud|\n",
      "+----+------+-------------+--------------+-------+\n",
      "|   0|     0|            0|             0|      0|\n",
      "+----+------+-------------+--------------+-------+\n",
      "\n"
     ]
    }
   ],
   "source": [
    "# null values in each column\n",
    "data_agg = df.agg(*[F.count(F.when(F.isnull(c), c)).alias(c) for c in df.columns])\n",
    "data_agg.show()"
   ]
  },
  {
   "cell_type": "code",
   "execution_count": 13,
   "id": "6750733c",
   "metadata": {
    "execution": {
     "iopub.execute_input": "2021-12-24T14:17:34.317918Z",
     "iopub.status.busy": "2021-12-24T14:17:34.317185Z",
     "iopub.status.idle": "2021-12-24T14:17:40.559263Z",
     "shell.execute_reply": "2021-12-24T14:17:40.560148Z",
     "shell.execute_reply.started": "2021-12-24T14:04:55.248229Z"
    },
    "papermill": {
     "duration": 6.448803,
     "end_time": "2021-12-24T14:17:40.560456",
     "exception": false,
     "start_time": "2021-12-24T14:17:34.111653",
     "status": "completed"
    },
    "tags": []
   },
   "outputs": [
    {
     "name": "stdout",
     "output_type": "stream",
     "text": [
      "+--------+-------+\n",
      "|    type|  count|\n",
      "+--------+-------+\n",
      "|TRANSFER| 532909|\n",
      "| CASH_IN|1399284|\n",
      "|CASH_OUT|2237500|\n",
      "| PAYMENT|2151495|\n",
      "|   DEBIT|  41432|\n",
      "+--------+-------+\n",
      "\n"
     ]
    }
   ],
   "source": [
    "# value counts of Type column\n",
    "df.groupBy('type').count().show()"
   ]
  },
  {
   "cell_type": "markdown",
   "id": "35832fa3",
   "metadata": {
    "papermill": {
     "duration": 0.200077,
     "end_time": "2021-12-24T14:17:41.033152",
     "exception": false,
     "start_time": "2021-12-24T14:17:40.833075",
     "status": "completed"
    },
    "tags": []
   },
   "source": [
    "### Train/test split"
   ]
  },
  {
   "cell_type": "code",
   "execution_count": 14,
   "id": "393c025c",
   "metadata": {
    "execution": {
     "iopub.execute_input": "2021-12-24T14:17:41.435131Z",
     "iopub.status.busy": "2021-12-24T14:17:41.434406Z",
     "iopub.status.idle": "2021-12-24T14:17:41.462933Z",
     "shell.execute_reply": "2021-12-24T14:17:41.461952Z",
     "shell.execute_reply.started": "2021-12-24T14:05:00.675035Z"
    },
    "papermill": {
     "duration": 0.229382,
     "end_time": "2021-12-24T14:17:41.463166",
     "exception": false,
     "start_time": "2021-12-24T14:17:41.233784",
     "status": "completed"
    },
    "tags": []
   },
   "outputs": [],
   "source": [
    "train, test = df.randomSplit([0.7, 0.3], seed=7)"
   ]
  },
  {
   "cell_type": "markdown",
   "id": "146e4de6",
   "metadata": {
    "papermill": {
     "duration": 0.201939,
     "end_time": "2021-12-24T14:17:41.913644",
     "exception": false,
     "start_time": "2021-12-24T14:17:41.711705",
     "status": "completed"
    },
    "tags": []
   },
   "source": [
    "so here is thr things we need to select data for train and test \n"
   ]
  },
  {
   "cell_type": "markdown",
   "id": "20f1f46d",
   "metadata": {
    "papermill": {
     "duration": 0.196566,
     "end_time": "2021-12-24T14:17:42.308389",
     "exception": false,
     "start_time": "2021-12-24T14:17:42.111823",
     "status": "completed"
    },
    "tags": []
   },
   "source": [
    "random selection of data makes the good distribution of record ,leads to good model"
   ]
  },
  {
   "cell_type": "markdown",
   "id": "18da94c9",
   "metadata": {
    "papermill": {
     "duration": 0.197443,
     "end_time": "2021-12-24T14:17:42.701529",
     "exception": false,
     "start_time": "2021-12-24T14:17:42.504086",
     "status": "completed"
    },
    "tags": []
   },
   "source": [
    "data weight is in fraction so \n",
    "0.7 ie 70% of the data from is being randomly selected and loaded but with a random factor seed ie 7"
   ]
  },
  {
   "cell_type": "markdown",
   "id": "53abf604",
   "metadata": {
    "papermill": {
     "duration": 0.19899,
     "end_time": "2021-12-24T14:17:43.893765",
     "exception": false,
     "start_time": "2021-12-24T14:17:43.694775",
     "status": "completed"
    },
    "tags": []
   },
   "source": [
    "randomSplit:\n",
    "Seed is random number generator seed. This is important because you might want to be able to hard code the same seed for your tests so that you always get the same results in test, but in prod code replace it with current time in milliseconds or a random number from a good entropy source.\n",
    "\n",
    "Basically the splited in random way. "
   ]
  },
  {
   "cell_type": "code",
   "execution_count": 15,
   "id": "d2b6bb19",
   "metadata": {
    "execution": {
     "iopub.execute_input": "2021-12-24T14:17:44.292413Z",
     "iopub.status.busy": "2021-12-24T14:17:44.291626Z",
     "iopub.status.idle": "2021-12-24T14:18:21.385917Z",
     "shell.execute_reply": "2021-12-24T14:18:21.386743Z",
     "shell.execute_reply.started": "2021-12-24T14:05:00.726784Z"
    },
    "papermill": {
     "duration": 37.296106,
     "end_time": "2021-12-24T14:18:21.387064",
     "exception": false,
     "start_time": "2021-12-24T14:17:44.090958",
     "status": "completed"
    },
    "tags": []
   },
   "outputs": [
    {
     "name": "stdout",
     "output_type": "stream",
     "text": [
      "Train set length: 4454328 records\n",
      "Test set length: 1908292 records\n"
     ]
    }
   ],
   "source": [
    "print(f\"Train set length: {train.count()} records\")\n",
    "print(f\"Test set length: {test.count()} records\")"
   ]
  },
  {
   "cell_type": "code",
   "execution_count": 16,
   "id": "b0b74cad",
   "metadata": {
    "execution": {
     "iopub.execute_input": "2021-12-24T14:18:21.821384Z",
     "iopub.status.busy": "2021-12-24T14:18:21.820646Z",
     "iopub.status.idle": "2021-12-24T14:18:29.652539Z",
     "shell.execute_reply": "2021-12-24T14:18:29.653186Z",
     "shell.execute_reply.started": "2021-12-24T14:05:31.877022Z"
    },
    "papermill": {
     "duration": 8.041871,
     "end_time": "2021-12-24T14:18:29.653405",
     "exception": false,
     "start_time": "2021-12-24T14:18:21.611534",
     "status": "completed"
    },
    "tags": []
   },
   "outputs": [
    {
     "name": "stdout",
     "output_type": "stream",
     "text": [
      "+-------+------+-------------+--------------+-------+\n",
      "|   type|amount|oldbalanceOrg|newbalanceOrig|isFraud|\n",
      "+-------+------+-------------+--------------+-------+\n",
      "|CASH_IN|  5.66|   5061561.06|    5061566.72|      0|\n",
      "|CASH_IN| 13.86|   6868100.18|    6868114.04|      0|\n",
      "+-------+------+-------------+--------------+-------+\n",
      "only showing top 2 rows\n",
      "\n"
     ]
    }
   ],
   "source": [
    "train.show(2)"
   ]
  },
  {
   "cell_type": "markdown",
   "id": "9223bca8",
   "metadata": {
    "papermill": {
     "duration": 0.253498,
     "end_time": "2021-12-24T14:18:30.127404",
     "exception": false,
     "start_time": "2021-12-24T14:18:29.873906",
     "status": "completed"
    },
    "tags": []
   },
   "source": [
    "### Dtypes\n",
    "In this dataset, any column of type string is treated as a categorical feature, but sometimes we might have numeric features we want treated as categorical or vice versa. We’ll need to carefully identify which columns are numeric and which are categorical."
   ]
  },
  {
   "cell_type": "code",
   "execution_count": 17,
   "id": "c27e5f0b",
   "metadata": {
    "execution": {
     "iopub.execute_input": "2021-12-24T14:18:30.552412Z",
     "iopub.status.busy": "2021-12-24T14:18:30.551399Z",
     "iopub.status.idle": "2021-12-24T14:18:30.558307Z",
     "shell.execute_reply": "2021-12-24T14:18:30.558942Z",
     "shell.execute_reply.started": "2021-12-24T14:05:38.049963Z"
    },
    "papermill": {
     "duration": 0.215547,
     "end_time": "2021-12-24T14:18:30.559121",
     "exception": false,
     "start_time": "2021-12-24T14:18:30.343574",
     "status": "completed"
    },
    "tags": []
   },
   "outputs": [
    {
     "data": {
      "text/plain": [
       "[('type', 'string'),\n",
       " ('amount', 'double'),\n",
       " ('oldbalanceOrg', 'double'),\n",
       " ('newbalanceOrig', 'double'),\n",
       " ('isFraud', 'int')]"
      ]
     },
     "execution_count": 17,
     "metadata": {},
     "output_type": "execute_result"
    }
   ],
   "source": [
    "train.dtypes"
   ]
  },
  {
   "cell_type": "markdown",
   "id": "dbc76cc6",
   "metadata": {
    "papermill": {
     "duration": 0.200671,
     "end_time": "2021-12-24T14:18:30.963210",
     "exception": false,
     "start_time": "2021-12-24T14:18:30.762539",
     "status": "completed"
    },
    "tags": []
   },
   "source": [
    "To use ML we need to conver string into values ,check the Data Type for that!"
   ]
  },
  {
   "cell_type": "code",
   "execution_count": 18,
   "id": "7501d690",
   "metadata": {
    "execution": {
     "iopub.execute_input": "2021-12-24T14:18:31.370209Z",
     "iopub.status.busy": "2021-12-24T14:18:31.369340Z",
     "iopub.status.idle": "2021-12-24T14:18:31.372109Z",
     "shell.execute_reply": "2021-12-24T14:18:31.372578Z",
     "shell.execute_reply.started": "2021-12-24T14:05:38.060633Z"
    },
    "papermill": {
     "duration": 0.209714,
     "end_time": "2021-12-24T14:18:31.372767",
     "exception": false,
     "start_time": "2021-12-24T14:18:31.163053",
     "status": "completed"
    },
    "tags": []
   },
   "outputs": [],
   "source": [
    "catCols = [x for (x, dataType) in train.dtypes if dataType == \"string\"]\n",
    "numCols = [ x for (x, dataType) in train.dtypes if (dataType == \"double\") ]\n",
    "#numCols = [ x for (x, dataType) in train.dtypes if ((dataType == \"double\") & (x != \"isFraud\")) ]\n",
    "#skip the \"isFraud\" but "
   ]
  },
  {
   "cell_type": "markdown",
   "id": "1429ac48",
   "metadata": {
    "papermill": {
     "duration": 0.204158,
     "end_time": "2021-12-24T14:18:31.783934",
     "exception": false,
     "start_time": "2021-12-24T14:18:31.579776",
     "status": "completed"
    },
    "tags": []
   },
   "source": [
    "Here we seperated the numerical col and string col;"
   ]
  },
  {
   "cell_type": "markdown",
   "id": "e88b050d",
   "metadata": {
    "papermill": {
     "duration": 0.201094,
     "end_time": "2021-12-24T14:18:32.185215",
     "exception": false,
     "start_time": "2021-12-24T14:18:31.984121",
     "status": "completed"
    },
    "tags": []
   },
   "source": [
    "these fancy is [ ] is just way to get the data in list format!! ie the output will be list!\n"
   ]
  },
  {
   "cell_type": "code",
   "execution_count": 19,
   "id": "02b983e2",
   "metadata": {
    "execution": {
     "iopub.execute_input": "2021-12-24T14:18:32.595391Z",
     "iopub.status.busy": "2021-12-24T14:18:32.594418Z",
     "iopub.status.idle": "2021-12-24T14:18:32.598678Z",
     "shell.execute_reply": "2021-12-24T14:18:32.598082Z",
     "shell.execute_reply.started": "2021-12-24T14:05:38.069395Z"
    },
    "papermill": {
     "duration": 0.213132,
     "end_time": "2021-12-24T14:18:32.598867",
     "exception": false,
     "start_time": "2021-12-24T14:18:32.385735",
     "status": "completed"
    },
    "tags": []
   },
   "outputs": [
    {
     "name": "stdout",
     "output_type": "stream",
     "text": [
      "['amount', 'oldbalanceOrg', 'newbalanceOrig']\n",
      "['type']\n"
     ]
    }
   ],
   "source": [
    "print(numCols)\n",
    "print(catCols)"
   ]
  },
  {
   "cell_type": "markdown",
   "id": "ee81ee94",
   "metadata": {
    "papermill": {
     "duration": 0.203666,
     "end_time": "2021-12-24T14:18:33.004929",
     "exception": false,
     "start_time": "2021-12-24T14:18:32.801263",
     "status": "completed"
    },
    "tags": []
   },
   "source": [
    "### One hot encoding\n",
    "\n",
    "StringIndexer:\n",
    "Converts a single feature to an index feature.\n",
    "http://spark.apache.org/docs/latest/ml-features#stringindexer\n",
    "\n",
    "\n",
    "OneHotEncoder:\n",
    "http://spark.apache.org/docs/latest/ml-features#onehotencoder\n",
    "\n",
    "For more info: http://spark.apache.org/docs/latest/ml-features"
   ]
  },
  {
   "cell_type": "code",
   "execution_count": 20,
   "id": "f4bbb3c8",
   "metadata": {
    "execution": {
     "iopub.execute_input": "2021-12-24T14:18:33.411780Z",
     "iopub.status.busy": "2021-12-24T14:18:33.411131Z",
     "iopub.status.idle": "2021-12-24T14:18:51.013260Z",
     "shell.execute_reply": "2021-12-24T14:18:51.014128Z",
     "shell.execute_reply.started": "2021-12-24T14:05:38.081311Z"
    },
    "papermill": {
     "duration": 17.808705,
     "end_time": "2021-12-24T14:18:51.014417",
     "exception": false,
     "start_time": "2021-12-24T14:18:33.205712",
     "status": "completed"
    },
    "tags": []
   },
   "outputs": [
    {
     "name": "stdout",
     "output_type": "stream",
     "text": [
      "+--------------------+\n",
      "|count(DISTINCT type)|\n",
      "+--------------------+\n",
      "|                   5|\n",
      "+--------------------+\n",
      "\n"
     ]
    }
   ],
   "source": [
    "train.agg(F.countDistinct(\"type\")).show()"
   ]
  },
  {
   "cell_type": "markdown",
   "id": "3d6beffb",
   "metadata": {
    "papermill": {
     "duration": 0.203547,
     "end_time": "2021-12-24T14:18:51.425018",
     "exception": false,
     "start_time": "2021-12-24T14:18:51.221471",
     "status": "completed"
    },
    "tags": []
   },
   "source": [
    "use agg when sum is indeed.\n",
    "F is sql function ie countDistinct\n",
    "DF goes along with sql as DF is in tabel format.\n",
    "SQL function maily applies in the record of the colum or the whole record itself.\n"
   ]
  },
  {
   "cell_type": "code",
   "execution_count": 21,
   "id": "858b778d",
   "metadata": {
    "execution": {
     "iopub.execute_input": "2021-12-24T14:18:51.838456Z",
     "iopub.status.busy": "2021-12-24T14:18:51.837775Z",
     "iopub.status.idle": "2021-12-24T14:19:08.895967Z",
     "shell.execute_reply": "2021-12-24T14:19:08.895083Z",
     "shell.execute_reply.started": "2021-12-24T14:05:52.974780Z"
    },
    "papermill": {
     "duration": 17.268044,
     "end_time": "2021-12-24T14:19:08.896182",
     "exception": false,
     "start_time": "2021-12-24T14:18:51.628138",
     "status": "completed"
    },
    "tags": []
   },
   "outputs": [
    {
     "name": "stdout",
     "output_type": "stream",
     "text": [
      "+--------+-------+\n",
      "|    type|  count|\n",
      "+--------+-------+\n",
      "|TRANSFER| 372938|\n",
      "| CASH_IN| 979390|\n",
      "|CASH_OUT|1565416|\n",
      "| PAYMENT|1507530|\n",
      "|   DEBIT|  29054|\n",
      "+--------+-------+\n",
      "\n"
     ]
    }
   ],
   "source": [
    "train.groupBy(\"type\").count().show()"
   ]
  },
  {
   "cell_type": "markdown",
   "id": "35cced00",
   "metadata": {
    "papermill": {
     "duration": 0.204323,
     "end_time": "2021-12-24T14:19:09.311333",
     "exception": false,
     "start_time": "2021-12-24T14:19:09.107010",
     "status": "completed"
    },
    "tags": []
   },
   "source": [
    "## Encode Categorical Variables using PySpark\n",
    "Most machine learning algorithms accept the data only in numerical form. So, it is essential to convert any categorical variables present in our dataset into numbers.\n",
    "* String Indexing is similar to Label Encoding."
   ]
  },
  {
   "cell_type": "markdown",
   "id": "79183444",
   "metadata": {
    "papermill": {
     "duration": 0.233657,
     "end_time": "2021-12-24T14:19:09.749033",
     "exception": false,
     "start_time": "2021-12-24T14:19:09.515376",
     "status": "completed"
    },
    "tags": []
   },
   "source": [
    "## One-Hot Encoding\n",
    "One-hot encoding is a concept every data scientist should know. I’ve relied on it multiple times when dealing with missing values. It’s a lifesaver!\n",
    "\n",
    "Here’s the caveat – Spark’s OneHotEncoder does not directly encode the categorical variable.\n",
    "> First, we need to use the String Indexer to convert the variable into numerical form and then use OneHotEncoderEstimator to encode multiple columns of the dataset.\n",
    "\n",
    "It creates a Sparse Vector for each row."
   ]
  },
  {
   "cell_type": "code",
   "execution_count": 22,
   "id": "dbbd5136",
   "metadata": {
    "execution": {
     "iopub.execute_input": "2021-12-24T14:19:10.166175Z",
     "iopub.status.busy": "2021-12-24T14:19:10.165481Z",
     "iopub.status.idle": "2021-12-24T14:19:10.309327Z",
     "shell.execute_reply": "2021-12-24T14:19:10.308630Z",
     "shell.execute_reply.started": "2021-12-24T14:06:07.728228Z"
    },
    "papermill": {
     "duration": 0.353761,
     "end_time": "2021-12-24T14:19:10.309504",
     "exception": false,
     "start_time": "2021-12-24T14:19:09.955743",
     "status": "completed"
    },
    "tags": []
   },
   "outputs": [],
   "source": [
    "from pyspark.ml.feature import (\n",
    "    OneHotEncoder,\n",
    "    StringIndexer,\n",
    ")"
   ]
  },
  {
   "cell_type": "markdown",
   "id": "8fa64ae2",
   "metadata": {
    "papermill": {
     "duration": 0.204864,
     "end_time": "2021-12-24T14:19:11.132599",
     "exception": false,
     "start_time": "2021-12-24T14:19:10.927735",
     "status": "completed"
    },
    "tags": []
   },
   "source": [
    "df = df.select(\"type\",\"isFraud\")\n",
    "#categorical value "
   ]
  },
  {
   "cell_type": "markdown",
   "id": "d12ee03c",
   "metadata": {
    "papermill": {
     "duration": 0.202787,
     "end_time": "2021-12-24T14:19:11.539106",
     "exception": false,
     "start_time": "2021-12-24T14:19:11.336319",
     "status": "completed"
    },
    "tags": []
   },
   "source": []
  },
  {
   "cell_type": "code",
   "execution_count": 23,
   "id": "59450834",
   "metadata": {
    "execution": {
     "iopub.execute_input": "2021-12-24T14:19:11.953003Z",
     "iopub.status.busy": "2021-12-24T14:19:11.952126Z",
     "iopub.status.idle": "2021-12-24T14:19:11.986112Z",
     "shell.execute_reply": "2021-12-24T14:19:11.985339Z",
     "shell.execute_reply.started": "2021-12-24T14:06:07.887351Z"
    },
    "papermill": {
     "duration": 0.244159,
     "end_time": "2021-12-24T14:19:11.986284",
     "exception": false,
     "start_time": "2021-12-24T14:19:11.742125",
     "status": "completed"
    },
    "tags": []
   },
   "outputs": [],
   "source": [
    "#catCols are the cols with string\n",
    "string_indexer = [\n",
    "    StringIndexer(inputCol=x, outputCol=x + \"_StringIndexer\", handleInvalid=\"skip\")\n",
    "    for x in catCols\n",
    "]"
   ]
  },
  {
   "cell_type": "markdown",
   "id": "61a09635",
   "metadata": {
    "papermill": {
     "duration": 0.202879,
     "end_time": "2021-12-24T14:19:12.393066",
     "exception": false,
     "start_time": "2021-12-24T14:19:12.190187",
     "status": "completed"
    },
    "tags": []
   },
   "source": [
    "here fun takes 2 parameters and  _StringIndexer will give the numeric value of of x as output when put like this : \n",
    "x + \"_StringIndexer\""
   ]
  },
  {
   "cell_type": "markdown",
   "id": "b5c0a842",
   "metadata": {
    "papermill": {
     "duration": 0.205304,
     "end_time": "2021-12-24T14:19:12.804755",
     "exception": false,
     "start_time": "2021-12-24T14:19:12.599451",
     "status": "completed"
    },
    "tags": []
   },
   "source": [
    "## So we use it to conver string into numerical values."
   ]
  },
  {
   "cell_type": "markdown",
   "id": "a4053bf5",
   "metadata": {
    "papermill": {
     "duration": 0.20607,
     "end_time": "2021-12-24T14:19:13.213241",
     "exception": false,
     "start_time": "2021-12-24T14:19:13.007171",
     "status": "completed"
    },
    "tags": []
   },
   "source": []
  },
  {
   "cell_type": "markdown",
   "id": "e51d2c88",
   "metadata": {
    "papermill": {
     "duration": 0.204565,
     "end_time": "2021-12-24T14:19:13.620960",
     "exception": false,
     "start_time": "2021-12-24T14:19:13.416395",
     "status": "completed"
    },
    "tags": []
   },
   "source": [
    "# fromat for [] is var =[ output function/var for(loop)   ] then the output will stored as a list of item.\n"
   ]
  },
  {
   "cell_type": "markdown",
   "id": "f92b856f",
   "metadata": {
    "papermill": {
     "duration": 0.203431,
     "end_time": "2021-12-24T14:19:14.030216",
     "exception": false,
     "start_time": "2021-12-24T14:19:13.826785",
     "status": "completed"
    },
    "tags": []
   },
   "source": []
  },
  {
   "cell_type": "code",
   "execution_count": 24,
   "id": "04e2a8ab",
   "metadata": {
    "execution": {
     "iopub.execute_input": "2021-12-24T14:19:14.441907Z",
     "iopub.status.busy": "2021-12-24T14:19:14.441152Z",
     "iopub.status.idle": "2021-12-24T14:19:21.644243Z",
     "shell.execute_reply": "2021-12-24T14:19:21.643303Z",
     "shell.execute_reply.started": "2021-12-24T14:06:07.924217Z"
    },
    "papermill": {
     "duration": 7.410389,
     "end_time": "2021-12-24T14:19:21.644478",
     "exception": false,
     "start_time": "2021-12-24T14:19:14.234089",
     "status": "completed"
    },
    "tags": []
   },
   "outputs": [
    {
     "name": "stdout",
     "output_type": "stream",
     "text": [
      "+--------+---------+-------------+--------------+-------+------------------+\n",
      "|    type|   amount|oldbalanceOrg|newbalanceOrig|isFraud|type_StringIndexer|\n",
      "+--------+---------+-------------+--------------+-------+------------------+\n",
      "| PAYMENT|  9839.64|     170136.0|     160296.36|      0|               1.0|\n",
      "| PAYMENT|  1864.28|      21249.0|      19384.72|      0|               1.0|\n",
      "|TRANSFER|    181.0|        181.0|           0.0|      1|               3.0|\n",
      "|CASH_OUT|    181.0|        181.0|           0.0|      1|               0.0|\n",
      "| PAYMENT| 11668.14|      41554.0|      29885.86|      0|               1.0|\n",
      "| PAYMENT|  7817.71|      53860.0|      46042.29|      0|               1.0|\n",
      "| PAYMENT|  7107.77|     183195.0|     176087.23|      0|               1.0|\n",
      "| PAYMENT|  7861.64|    176087.23|     168225.59|      0|               1.0|\n",
      "| PAYMENT|  4024.36|       2671.0|           0.0|      0|               1.0|\n",
      "|   DEBIT|  5337.77|      41720.0|      36382.23|      0|               4.0|\n",
      "|   DEBIT|  9644.94|       4465.0|           0.0|      0|               4.0|\n",
      "| PAYMENT|  3099.97|      20771.0|      17671.03|      0|               1.0|\n",
      "| PAYMENT|  2560.74|       5070.0|       2509.26|      0|               1.0|\n",
      "| PAYMENT| 11633.76|      10127.0|           0.0|      0|               1.0|\n",
      "| PAYMENT|  4098.78|     503264.0|     499165.22|      0|               1.0|\n",
      "|CASH_OUT|229133.94|      15325.0|           0.0|      0|               0.0|\n",
      "| PAYMENT|  1563.82|        450.0|           0.0|      0|               1.0|\n",
      "| PAYMENT|  1157.86|      21156.0|      19998.14|      0|               1.0|\n",
      "| PAYMENT|   671.64|      15123.0|      14451.36|      0|               1.0|\n",
      "|TRANSFER| 215310.3|        705.0|           0.0|      0|               3.0|\n",
      "+--------+---------+-------------+--------------+-------+------------------+\n",
      "only showing top 20 rows\n",
      "\n"
     ]
    }
   ],
   "source": [
    "string_indexe=string_indexer[0].fit(df).transform(df)\n",
    "string_indexe.show()"
   ]
  },
  {
   "cell_type": "markdown",
   "id": "ed3eb85c",
   "metadata": {
    "papermill": {
     "duration": 0.205262,
     "end_time": "2021-12-24T14:19:22.101917",
     "exception": false,
     "start_time": "2021-12-24T14:19:21.896655",
     "status": "completed"
    },
    "tags": []
   },
   "source": []
  },
  {
   "cell_type": "code",
   "execution_count": 25,
   "id": "81f6fa41",
   "metadata": {
    "execution": {
     "iopub.execute_input": "2021-12-24T14:19:22.518445Z",
     "iopub.status.busy": "2021-12-24T14:19:22.517625Z",
     "iopub.status.idle": "2021-12-24T14:19:22.532206Z",
     "shell.execute_reply": "2021-12-24T14:19:22.532681Z",
     "shell.execute_reply.started": "2021-12-24T14:06:14.123175Z"
    },
    "papermill": {
     "duration": 0.224838,
     "end_time": "2021-12-24T14:19:22.532882",
     "exception": false,
     "start_time": "2021-12-24T14:19:22.308044",
     "status": "completed"
    },
    "tags": []
   },
   "outputs": [],
   "source": [
    "one_hot_encoder = [\n",
    "    OneHotEncoder(\n",
    "        inputCols=[f\"{x}_StringIndexer\" for x in catCols],\n",
    "        outputCols=[f\"{x}_OneHotEncoder\" for x in catCols],\n",
    "    )\n",
    "]"
   ]
  },
  {
   "cell_type": "code",
   "execution_count": 26,
   "id": "2c6f10d8",
   "metadata": {
    "execution": {
     "iopub.execute_input": "2021-12-24T14:19:22.946879Z",
     "iopub.status.busy": "2021-12-24T14:19:22.944506Z",
     "iopub.status.idle": "2021-12-24T14:19:23.393808Z",
     "shell.execute_reply": "2021-12-24T14:19:23.392341Z",
     "shell.execute_reply.started": "2021-12-24T14:06:14.149496Z"
    },
    "papermill": {
     "duration": 0.65799,
     "end_time": "2021-12-24T14:19:23.394042",
     "exception": false,
     "start_time": "2021-12-24T14:19:22.736052",
     "status": "completed"
    },
    "tags": []
   },
   "outputs": [
    {
     "name": "stdout",
     "output_type": "stream",
     "text": [
      "+--------+---------+-------------+--------------+-------+------------------+------------------+\n",
      "|    type|   amount|oldbalanceOrg|newbalanceOrig|isFraud|type_StringIndexer|type_OneHotEncoder|\n",
      "+--------+---------+-------------+--------------+-------+------------------+------------------+\n",
      "| PAYMENT|  9839.64|     170136.0|     160296.36|      0|               1.0|     (4,[1],[1.0])|\n",
      "| PAYMENT|  1864.28|      21249.0|      19384.72|      0|               1.0|     (4,[1],[1.0])|\n",
      "|TRANSFER|    181.0|        181.0|           0.0|      1|               3.0|     (4,[3],[1.0])|\n",
      "|CASH_OUT|    181.0|        181.0|           0.0|      1|               0.0|     (4,[0],[1.0])|\n",
      "| PAYMENT| 11668.14|      41554.0|      29885.86|      0|               1.0|     (4,[1],[1.0])|\n",
      "| PAYMENT|  7817.71|      53860.0|      46042.29|      0|               1.0|     (4,[1],[1.0])|\n",
      "| PAYMENT|  7107.77|     183195.0|     176087.23|      0|               1.0|     (4,[1],[1.0])|\n",
      "| PAYMENT|  7861.64|    176087.23|     168225.59|      0|               1.0|     (4,[1],[1.0])|\n",
      "| PAYMENT|  4024.36|       2671.0|           0.0|      0|               1.0|     (4,[1],[1.0])|\n",
      "|   DEBIT|  5337.77|      41720.0|      36382.23|      0|               4.0|         (4,[],[])|\n",
      "|   DEBIT|  9644.94|       4465.0|           0.0|      0|               4.0|         (4,[],[])|\n",
      "| PAYMENT|  3099.97|      20771.0|      17671.03|      0|               1.0|     (4,[1],[1.0])|\n",
      "| PAYMENT|  2560.74|       5070.0|       2509.26|      0|               1.0|     (4,[1],[1.0])|\n",
      "| PAYMENT| 11633.76|      10127.0|           0.0|      0|               1.0|     (4,[1],[1.0])|\n",
      "| PAYMENT|  4098.78|     503264.0|     499165.22|      0|               1.0|     (4,[1],[1.0])|\n",
      "|CASH_OUT|229133.94|      15325.0|           0.0|      0|               0.0|     (4,[0],[1.0])|\n",
      "| PAYMENT|  1563.82|        450.0|           0.0|      0|               1.0|     (4,[1],[1.0])|\n",
      "| PAYMENT|  1157.86|      21156.0|      19998.14|      0|               1.0|     (4,[1],[1.0])|\n",
      "| PAYMENT|   671.64|      15123.0|      14451.36|      0|               1.0|     (4,[1],[1.0])|\n",
      "|TRANSFER| 215310.3|        705.0|           0.0|      0|               3.0|     (4,[3],[1.0])|\n",
      "+--------+---------+-------------+--------------+-------+------------------+------------------+\n",
      "only showing top 20 rows\n",
      "\n"
     ]
    }
   ],
   "source": [
    "one_hot_encoder_df=one_hot_encoder[0].fit(string_indexe).transform(string_indexe)\n",
    "one_hot_encoder_df.show()\n"
   ]
  },
  {
   "cell_type": "markdown",
   "id": "170ac3af",
   "metadata": {
    "papermill": {
     "duration": 0.237183,
     "end_time": "2021-12-24T14:19:23.928968",
     "exception": false,
     "start_time": "2021-12-24T14:19:23.691785",
     "status": "completed"
    },
    "tags": []
   },
   "source": [
    "## one-hot numeric array of the features"
   ]
  },
  {
   "cell_type": "markdown",
   "id": "eb09a48b",
   "metadata": {
    "papermill": {
     "duration": 0.209563,
     "end_time": "2021-12-24T14:19:24.350494",
     "exception": false,
     "start_time": "2021-12-24T14:19:24.140931",
     "status": "completed"
    },
    "tags": []
   },
   "source": [
    "### Vector assembling\n",
    "\n",
    "VectorAssembler:\n",
    "Combines the values of input columns into a single vector.\n",
    "http://spark.apache.org/docs/latest/ml-features#vectorassembler\n",
    "\n",
    "It accepts numeric, boolean and vector type columns\n"
   ]
  },
  {
   "cell_type": "code",
   "execution_count": 27,
   "id": "c5d8318e",
   "metadata": {
    "execution": {
     "iopub.execute_input": "2021-12-24T14:19:24.765574Z",
     "iopub.status.busy": "2021-12-24T14:19:24.764938Z",
     "iopub.status.idle": "2021-12-24T14:19:24.767273Z",
     "shell.execute_reply": "2021-12-24T14:19:24.767770Z",
     "shell.execute_reply.started": "2021-12-24T14:06:14.694896Z"
    },
    "papermill": {
     "duration": 0.213833,
     "end_time": "2021-12-24T14:19:24.767970",
     "exception": false,
     "start_time": "2021-12-24T14:19:24.554137",
     "status": "completed"
    },
    "tags": []
   },
   "outputs": [],
   "source": [
    "from pyspark.ml.feature import VectorAssembler"
   ]
  },
  {
   "cell_type": "code",
   "execution_count": 28,
   "id": "764a0369",
   "metadata": {
    "execution": {
     "iopub.execute_input": "2021-12-24T14:19:25.191110Z",
     "iopub.status.busy": "2021-12-24T14:19:25.190447Z",
     "iopub.status.idle": "2021-12-24T14:19:25.194603Z",
     "shell.execute_reply": "2021-12-24T14:19:25.195149Z",
     "shell.execute_reply.started": "2021-12-24T14:06:14.701653Z"
    },
    "papermill": {
     "duration": 0.217099,
     "end_time": "2021-12-24T14:19:25.195333",
     "exception": false,
     "start_time": "2021-12-24T14:19:24.978234",
     "status": "completed"
    },
    "tags": []
   },
   "outputs": [],
   "source": [
    "assemblerInput = [x for x in numCols]\n",
    "assemblerInput += [f\"{x}_OneHotEncoder\" for x in catCols]"
   ]
  },
  {
   "cell_type": "code",
   "execution_count": 29,
   "id": "94ca182c",
   "metadata": {
    "execution": {
     "iopub.execute_input": "2021-12-24T14:19:25.615643Z",
     "iopub.status.busy": "2021-12-24T14:19:25.614959Z",
     "iopub.status.idle": "2021-12-24T14:19:25.620486Z",
     "shell.execute_reply": "2021-12-24T14:19:25.621156Z",
     "shell.execute_reply.started": "2021-12-24T14:06:14.716600Z"
    },
    "papermill": {
     "duration": 0.21705,
     "end_time": "2021-12-24T14:19:25.621336",
     "exception": false,
     "start_time": "2021-12-24T14:19:25.404286",
     "status": "completed"
    },
    "tags": []
   },
   "outputs": [
    {
     "data": {
      "text/plain": [
       "['amount', 'oldbalanceOrg', 'newbalanceOrig', 'type_OneHotEncoder']"
      ]
     },
     "execution_count": 29,
     "metadata": {},
     "output_type": "execute_result"
    }
   ],
   "source": [
    "assemblerInput"
   ]
  },
  {
   "cell_type": "code",
   "execution_count": 30,
   "id": "ce67981f",
   "metadata": {
    "execution": {
     "iopub.execute_input": "2021-12-24T14:19:26.042760Z",
     "iopub.status.busy": "2021-12-24T14:19:26.041015Z",
     "iopub.status.idle": "2021-12-24T14:19:26.054700Z",
     "shell.execute_reply": "2021-12-24T14:19:26.055258Z",
     "shell.execute_reply.started": "2021-12-24T14:06:14.730257Z"
    },
    "papermill": {
     "duration": 0.225327,
     "end_time": "2021-12-24T14:19:26.055452",
     "exception": false,
     "start_time": "2021-12-24T14:19:25.830125",
     "status": "completed"
    },
    "tags": []
   },
   "outputs": [],
   "source": [
    "vector_assembler = VectorAssembler(\n",
    "    inputCols=assemblerInput, outputCol=\"VectorAssembler_features\"\n",
    ")"
   ]
  },
  {
   "cell_type": "markdown",
   "id": "16b54f8c",
   "metadata": {
    "papermill": {
     "duration": 0.206988,
     "end_time": "2021-12-24T14:19:26.469120",
     "exception": false,
     "start_time": "2021-12-24T14:19:26.262132",
     "status": "completed"
    },
    "tags": []
   },
   "source": [
    "## Transformers and Estimators\n",
    "As the name suggests, Transformers convert one dataframe into another either by updating the current values of a particular column (like converting categorical columns to numeric) or mapping it to some other values by using a defined logic.\n",
    "\n",
    "An Estimator implements the fit() method on a dataframe and produces a model. For example, LogisticRegression is an Estimator that trains a classification model when we call the fit() method.\n",
    "\n",
    "\n"
   ]
  },
  {
   "cell_type": "markdown",
   "id": "0289cb6e",
   "metadata": {
    "papermill": {
     "duration": 0.211202,
     "end_time": "2021-12-24T14:19:26.885035",
     "exception": false,
     "start_time": "2021-12-24T14:19:26.673833",
     "status": "completed"
    },
    "tags": []
   },
   "source": [
    "## Now all the feature of record will be represted by the a single vector"
   ]
  },
  {
   "cell_type": "code",
   "execution_count": 31,
   "id": "181482d2",
   "metadata": {
    "execution": {
     "iopub.execute_input": "2021-12-24T14:19:27.330281Z",
     "iopub.status.busy": "2021-12-24T14:19:27.329550Z",
     "iopub.status.idle": "2021-12-24T14:19:27.330984Z",
     "shell.execute_reply": "2021-12-24T14:19:27.331476Z",
     "shell.execute_reply.started": "2021-12-24T14:06:14.752532Z"
    },
    "papermill": {
     "duration": 0.23307,
     "end_time": "2021-12-24T14:19:27.331667",
     "exception": false,
     "start_time": "2021-12-24T14:19:27.098597",
     "status": "completed"
    },
    "tags": []
   },
   "outputs": [],
   "source": [
    "stages = []\n",
    "stages += string_indexer\n",
    "stages += one_hot_encoder\n",
    "stages += [vector_assembler]\n"
   ]
  },
  {
   "cell_type": "markdown",
   "id": "4b0685b9",
   "metadata": {
    "papermill": {
     "duration": 0.204963,
     "end_time": "2021-12-24T14:19:27.747387",
     "exception": false,
     "start_time": "2021-12-24T14:19:27.542424",
     "status": "completed"
    },
    "tags": []
   },
   "source": [
    "We need stages and pipeline so that we don't need to apply the indexer and encoder to to"
   ]
  },
  {
   "cell_type": "code",
   "execution_count": 32,
   "id": "48b022d6",
   "metadata": {
    "execution": {
     "iopub.execute_input": "2021-12-24T14:19:28.165640Z",
     "iopub.status.busy": "2021-12-24T14:19:28.164693Z",
     "iopub.status.idle": "2021-12-24T14:19:28.170072Z",
     "shell.execute_reply": "2021-12-24T14:19:28.170659Z",
     "shell.execute_reply.started": "2021-12-24T14:06:14.759445Z"
    },
    "papermill": {
     "duration": 0.217851,
     "end_time": "2021-12-24T14:19:28.170848",
     "exception": false,
     "start_time": "2021-12-24T14:19:27.952997",
     "status": "completed"
    },
    "tags": []
   },
   "outputs": [
    {
     "data": {
      "text/plain": [
       "[StringIndexer_9f2895271ac7,\n",
       " OneHotEncoder_0623035e272e,\n",
       " VectorAssembler_a751e6df69ca]"
      ]
     },
     "execution_count": 32,
     "metadata": {},
     "output_type": "execute_result"
    }
   ],
   "source": [
    "stages"
   ]
  },
  {
   "cell_type": "markdown",
   "id": "2f4e1835",
   "metadata": {
    "papermill": {
     "duration": 0.207979,
     "end_time": "2021-12-24T14:19:28.584869",
     "exception": false,
     "start_time": "2021-12-24T14:19:28.376890",
     "status": "completed"
    },
    "tags": []
   },
   "source": [
    "> A pipeline allows us to maintain the data flow of all the relevant transformations that are required to reach the end result."
   ]
  },
  {
   "cell_type": "code",
   "execution_count": 33,
   "id": "383f810c",
   "metadata": {
    "execution": {
     "iopub.execute_input": "2021-12-24T14:19:29.009605Z",
     "iopub.status.busy": "2021-12-24T14:19:29.008184Z",
     "iopub.status.idle": "2021-12-24T14:19:47.512374Z",
     "shell.execute_reply": "2021-12-24T14:19:47.511537Z",
     "shell.execute_reply.started": "2021-12-24T14:06:14.774219Z"
    },
    "papermill": {
     "duration": 18.719882,
     "end_time": "2021-12-24T14:19:47.512548",
     "exception": false,
     "start_time": "2021-12-24T14:19:28.792666",
     "status": "completed"
    },
    "tags": []
   },
   "outputs": [],
   "source": [
    "#%%time\n",
    "from pyspark.ml import Pipeline\n",
    "\n",
    "pipeline = Pipeline().setStages(stages)\n",
    "model = pipeline.fit(train)\n",
    "\n",
    "pp_df = model.transform(train)"
   ]
  },
  {
   "cell_type": "code",
   "execution_count": 34,
   "id": "5463f37c",
   "metadata": {
    "execution": {
     "iopub.execute_input": "2021-12-24T14:19:47.931252Z",
     "iopub.status.busy": "2021-12-24T14:19:47.930250Z",
     "iopub.status.idle": "2021-12-24T14:19:55.725314Z",
     "shell.execute_reply": "2021-12-24T14:19:55.724508Z",
     "shell.execute_reply.started": "2021-12-24T14:06:30.607101Z"
    },
    "papermill": {
     "duration": 8.005911,
     "end_time": "2021-12-24T14:19:55.725611",
     "exception": false,
     "start_time": "2021-12-24T14:19:47.719700",
     "status": "completed"
    },
    "tags": []
   },
   "outputs": [
    {
     "name": "stdout",
     "output_type": "stream",
     "text": [
      "+-------+------+-------------+--------------+---------------------------------------------------+\n",
      "|type   |amount|oldbalanceOrg|newbalanceOrig|VectorAssembler_features                           |\n",
      "+-------+------+-------------+--------------+---------------------------------------------------+\n",
      "|CASH_IN|5.66  |5061561.06   |5061566.72    |[5.66,5061561.06,5061566.72,0.0,0.0,1.0,0.0]       |\n",
      "|CASH_IN|13.86 |6868100.18   |6868114.04    |[13.86,6868100.18,6868114.04,0.0,0.0,1.0,0.0]      |\n",
      "|CASH_IN|14.54 |3347286.5    |3347301.03    |[14.54,3347286.5,3347301.03,0.0,0.0,1.0,0.0]       |\n",
      "|CASH_IN|15.52 |4368030.06   |4368045.59    |[15.52,4368030.06,4368045.59,0.0,0.0,1.0,0.0]      |\n",
      "|CASH_IN|17.33 |8964056.72   |8964074.05    |[17.33,8964056.72,8964074.05,0.0,0.0,1.0,0.0]      |\n",
      "|CASH_IN|25.01 |3077402.04   |3077427.04    |[25.01,3077402.04,3077427.04,0.0,0.0,1.0,0.0]      |\n",
      "|CASH_IN|38.77 |6210013.72   |6210052.49    |[38.77,6210013.72,6210052.49,0.0,0.0,1.0,0.0]      |\n",
      "|CASH_IN|52.64 |3468172.49   |3468225.13    |[52.64,3468172.49,3468225.13,0.0,0.0,1.0,0.0]      |\n",
      "|CASH_IN|57.98 |9021204.76   |9021262.74    |[57.98,9021204.76,9021262.74,0.0,0.0,1.0,0.0]      |\n",
      "|CASH_IN|66.78 |61853.0      |61919.78      |[66.78,61853.0,61919.78,0.0,0.0,1.0,0.0]           |\n",
      "|CASH_IN|71.85 |1.688345136E7|1.688352321E7 |[71.85,1.688345136E7,1.688352321E7,0.0,0.0,1.0,0.0]|\n",
      "|CASH_IN|72.42 |6183.0       |6255.42       |[72.42,6183.0,6255.42,0.0,0.0,1.0,0.0]             |\n",
      "|CASH_IN|85.96 |30214.0      |30299.96      |[85.96,30214.0,30299.96,0.0,0.0,1.0,0.0]           |\n",
      "|CASH_IN|91.0  |1.120136803E7|1.120145903E7 |[91.0,1.120136803E7,1.120145903E7,0.0,0.0,1.0,0.0] |\n",
      "|CASH_IN|92.06 |1.729915127E7|1.729924333E7 |[92.06,1.729915127E7,1.729924333E7,0.0,0.0,1.0,0.0]|\n",
      "|CASH_IN|97.14 |1.021733445E7|1.021743159E7 |[97.14,1.021733445E7,1.021743159E7,0.0,0.0,1.0,0.0]|\n",
      "|CASH_IN|100.29|135.0        |235.29        |[100.29,135.0,235.29,0.0,0.0,1.0,0.0]              |\n",
      "|CASH_IN|100.78|124671.66    |124772.44     |[100.78,124671.66,124772.44,0.0,0.0,1.0,0.0]       |\n",
      "|CASH_IN|103.88|9419793.26   |9419897.14    |[103.88,9419793.26,9419897.14,0.0,0.0,1.0,0.0]     |\n",
      "|CASH_IN|119.66|8934438.1    |8934557.76    |[119.66,8934438.1,8934557.76,0.0,0.0,1.0,0.0]      |\n",
      "+-------+------+-------------+--------------+---------------------------------------------------+\n",
      "only showing top 20 rows\n",
      "\n"
     ]
    }
   ],
   "source": [
    "pp_df.select(\n",
    "    \"type\", \"amount\", \"oldbalanceOrg\", \"newbalanceOrig\", \"VectorAssembler_features\",\n",
    ").show(truncate=False)"
   ]
  },
  {
   "cell_type": "code",
   "execution_count": 35,
   "id": "a01ab5bb",
   "metadata": {
    "execution": {
     "iopub.execute_input": "2021-12-24T14:19:56.166534Z",
     "iopub.status.busy": "2021-12-24T14:19:56.165882Z",
     "iopub.status.idle": "2021-12-24T14:20:04.083911Z",
     "shell.execute_reply": "2021-12-24T14:20:04.082758Z",
     "shell.execute_reply.started": "2021-12-24T14:06:36.966755Z"
    },
    "papermill": {
     "duration": 8.13552,
     "end_time": "2021-12-24T14:20:04.084165",
     "exception": false,
     "start_time": "2021-12-24T14:19:55.948645",
     "status": "completed"
    },
    "tags": []
   },
   "outputs": [
    {
     "name": "stdout",
     "output_type": "stream",
     "text": [
      "+-------+------+-------------+--------------+-------+------------------+------------------+------------------------+\n",
      "|   type|amount|oldbalanceOrg|newbalanceOrig|isFraud|type_StringIndexer|type_OneHotEncoder|VectorAssembler_features|\n",
      "+-------+------+-------------+--------------+-------+------------------+------------------+------------------------+\n",
      "|CASH_IN|  5.66|   5061561.06|    5061566.72|      0|               2.0|     (4,[2],[1.0])|    [5.66,5061561.06,...|\n",
      "|CASH_IN| 13.86|   6868100.18|    6868114.04|      0|               2.0|     (4,[2],[1.0])|    [13.86,6868100.18...|\n",
      "|CASH_IN| 14.54|    3347286.5|    3347301.03|      0|               2.0|     (4,[2],[1.0])|    [14.54,3347286.5,...|\n",
      "|CASH_IN| 15.52|   4368030.06|    4368045.59|      0|               2.0|     (4,[2],[1.0])|    [15.52,4368030.06...|\n",
      "|CASH_IN| 17.33|   8964056.72|    8964074.05|      0|               2.0|     (4,[2],[1.0])|    [17.33,8964056.72...|\n",
      "|CASH_IN| 25.01|   3077402.04|    3077427.04|      0|               2.0|     (4,[2],[1.0])|    [25.01,3077402.04...|\n",
      "|CASH_IN| 38.77|   6210013.72|    6210052.49|      0|               2.0|     (4,[2],[1.0])|    [38.77,6210013.72...|\n",
      "|CASH_IN| 52.64|   3468172.49|    3468225.13|      0|               2.0|     (4,[2],[1.0])|    [52.64,3468172.49...|\n",
      "|CASH_IN| 57.98|   9021204.76|    9021262.74|      0|               2.0|     (4,[2],[1.0])|    [57.98,9021204.76...|\n",
      "|CASH_IN| 66.78|      61853.0|      61919.78|      0|               2.0|     (4,[2],[1.0])|    [66.78,61853.0,61...|\n",
      "|CASH_IN| 71.85|1.688345136E7| 1.688352321E7|      0|               2.0|     (4,[2],[1.0])|    [71.85,1.68834513...|\n",
      "|CASH_IN| 72.42|       6183.0|       6255.42|      0|               2.0|     (4,[2],[1.0])|    [72.42,6183.0,625...|\n",
      "|CASH_IN| 85.96|      30214.0|      30299.96|      0|               2.0|     (4,[2],[1.0])|    [85.96,30214.0,30...|\n",
      "|CASH_IN|  91.0|1.120136803E7| 1.120145903E7|      0|               2.0|     (4,[2],[1.0])|    [91.0,1.120136803...|\n",
      "|CASH_IN| 92.06|1.729915127E7| 1.729924333E7|      0|               2.0|     (4,[2],[1.0])|    [92.06,1.72991512...|\n",
      "|CASH_IN| 97.14|1.021733445E7| 1.021743159E7|      0|               2.0|     (4,[2],[1.0])|    [97.14,1.02173344...|\n",
      "|CASH_IN|100.29|        135.0|        235.29|      0|               2.0|     (4,[2],[1.0])|    [100.29,135.0,235...|\n",
      "|CASH_IN|100.78|    124671.66|     124772.44|      0|               2.0|     (4,[2],[1.0])|    [100.78,124671.66...|\n",
      "|CASH_IN|103.88|   9419793.26|    9419897.14|      0|               2.0|     (4,[2],[1.0])|    [103.88,9419793.2...|\n",
      "|CASH_IN|119.66|    8934438.1|    8934557.76|      0|               2.0|     (4,[2],[1.0])|    [119.66,8934438.1...|\n",
      "+-------+------+-------------+--------------+-------+------------------+------------------+------------------------+\n",
      "only showing top 20 rows\n",
      "\n"
     ]
    }
   ],
   "source": [
    "pp_df.show()"
   ]
  },
  {
   "cell_type": "code",
   "execution_count": 36,
   "id": "2372826d",
   "metadata": {
    "execution": {
     "iopub.execute_input": "2021-12-24T14:20:04.608303Z",
     "iopub.status.busy": "2021-12-24T14:20:04.607204Z",
     "iopub.status.idle": "2021-12-24T14:20:21.874383Z",
     "shell.execute_reply": "2021-12-24T14:20:21.873827Z",
     "shell.execute_reply.started": "2021-12-24T14:06:43.204930Z"
    },
    "papermill": {
     "duration": 17.48922,
     "end_time": "2021-12-24T14:20:21.874535",
     "exception": false,
     "start_time": "2021-12-24T14:20:04.385315",
     "status": "completed"
    },
    "tags": []
   },
   "outputs": [
    {
     "data": {
      "text/plain": [
       "1908292"
      ]
     },
     "execution_count": 36,
     "metadata": {},
     "output_type": "execute_result"
    }
   ],
   "source": [
    "test.count()"
   ]
  },
  {
   "cell_type": "code",
   "execution_count": 37,
   "id": "2f0e07f7",
   "metadata": {
    "execution": {
     "iopub.execute_input": "2021-12-24T14:20:22.323261Z",
     "iopub.status.busy": "2021-12-24T14:20:22.322487Z",
     "iopub.status.idle": "2021-12-24T14:20:22.367458Z",
     "shell.execute_reply": "2021-12-24T14:20:22.366754Z",
     "shell.execute_reply.started": "2021-12-24T14:06:57.715440Z"
    },
    "papermill": {
     "duration": 0.265717,
     "end_time": "2021-12-24T14:20:22.367623",
     "exception": false,
     "start_time": "2021-12-24T14:20:22.101906",
     "status": "completed"
    },
    "tags": []
   },
   "outputs": [],
   "source": [
    "df_test=test.where(test.isFraud == 1)"
   ]
  },
  {
   "cell_type": "code",
   "execution_count": 38,
   "id": "dc46f3a2",
   "metadata": {
    "execution": {
     "iopub.execute_input": "2021-12-24T14:20:22.798407Z",
     "iopub.status.busy": "2021-12-24T14:20:22.797605Z",
     "iopub.status.idle": "2021-12-24T14:20:30.875866Z",
     "shell.execute_reply": "2021-12-24T14:20:30.875129Z",
     "shell.execute_reply.started": "2021-12-24T14:06:57.768081Z"
    },
    "papermill": {
     "duration": 8.29599,
     "end_time": "2021-12-24T14:20:30.876039",
     "exception": false,
     "start_time": "2021-12-24T14:20:22.580049",
     "status": "completed"
    },
    "tags": []
   },
   "outputs": [
    {
     "name": "stdout",
     "output_type": "stream",
     "text": [
      "+--------+---------+-------------+--------------+-------+\n",
      "|    type|   amount|oldbalanceOrg|newbalanceOrig|isFraud|\n",
      "+--------+---------+-------------+--------------+-------+\n",
      "|CASH_OUT| 13707.11|     13707.11|           0.0|      1|\n",
      "|CASH_OUT| 14949.84|     14949.84|           0.0|      1|\n",
      "|CASH_OUT|  22877.0|      22877.0|           0.0|      1|\n",
      "|CASH_OUT| 29707.86|     29707.86|           0.0|      1|\n",
      "|CASH_OUT| 33332.86|     33332.86|           0.0|      1|\n",
      "|CASH_OUT| 39713.28|          0.0|           0.0|      1|\n",
      "|CASH_OUT| 48375.02|     48375.02|           0.0|      1|\n",
      "|CASH_OUT|  59835.0|      59835.0|           0.0|      1|\n",
      "|CASH_OUT| 65488.05|     65488.05|           0.0|      1|\n",
      "|CASH_OUT| 85354.69|     85354.69|           0.0|      1|\n",
      "|CASH_OUT| 86070.17|     86070.17|           0.0|      1|\n",
      "|CASH_OUT| 89631.24|     89631.24|           0.0|      1|\n",
      "|CASH_OUT|132842.64|      4499.08|           0.0|      1|\n",
      "|CASH_OUT|169941.73|    169941.73|           0.0|      1|\n",
      "|CASH_OUT|181728.11|          0.0|           0.0|      1|\n",
      "|CASH_OUT|235238.66|    235238.66|           0.0|      1|\n",
      "|CASH_OUT|244068.01|    244068.01|           0.0|      1|\n",
      "|CASH_OUT|262434.54|    262434.54|           0.0|      1|\n",
      "|CASH_OUT|277970.88|          0.0|           0.0|      1|\n",
      "|CASH_OUT|350705.74|    350705.74|           0.0|      1|\n",
      "+--------+---------+-------------+--------------+-------+\n",
      "only showing top 20 rows\n",
      "\n"
     ]
    }
   ],
   "source": [
    "df_test.show()"
   ]
  },
  {
   "cell_type": "markdown",
   "id": "9fbf6f6b",
   "metadata": {
    "papermill": {
     "duration": 0.211027,
     "end_time": "2021-12-24T14:20:31.301990",
     "exception": false,
     "start_time": "2021-12-24T14:20:31.090963",
     "status": "completed"
    },
    "tags": []
   },
   "source": []
  },
  {
   "cell_type": "markdown",
   "id": "f69e1a7f",
   "metadata": {
    "papermill": {
     "duration": 0.212119,
     "end_time": "2021-12-24T14:20:31.723186",
     "exception": false,
     "start_time": "2021-12-24T14:20:31.511067",
     "status": "completed"
    },
    "tags": []
   },
   "source": [
    "### Logistic Regression"
   ]
  },
  {
   "cell_type": "code",
   "execution_count": 39,
   "id": "f3d93c0d",
   "metadata": {
    "execution": {
     "iopub.execute_input": "2021-12-24T14:20:32.152929Z",
     "iopub.status.busy": "2021-12-24T14:20:32.152240Z",
     "iopub.status.idle": "2021-12-24T14:20:32.155953Z",
     "shell.execute_reply": "2021-12-24T14:20:32.155370Z",
     "shell.execute_reply.started": "2021-12-24T14:07:04.674416Z"
    },
    "papermill": {
     "duration": 0.222169,
     "end_time": "2021-12-24T14:20:32.156114",
     "exception": false,
     "start_time": "2021-12-24T14:20:31.933945",
     "status": "completed"
    },
    "tags": []
   },
   "outputs": [],
   "source": [
    "from pyspark.ml.classification import LogisticRegression"
   ]
  },
  {
   "cell_type": "code",
   "execution_count": 40,
   "id": "985909ca",
   "metadata": {
    "execution": {
     "iopub.execute_input": "2021-12-24T14:20:32.585055Z",
     "iopub.status.busy": "2021-12-24T14:20:32.584016Z",
     "iopub.status.idle": "2021-12-24T14:20:32.601502Z",
     "shell.execute_reply": "2021-12-24T14:20:32.602071Z",
     "shell.execute_reply.started": "2021-12-24T14:07:04.683175Z"
    },
    "papermill": {
     "duration": 0.234572,
     "end_time": "2021-12-24T14:20:32.602291",
     "exception": false,
     "start_time": "2021-12-24T14:20:32.367719",
     "status": "completed"
    },
    "tags": []
   },
   "outputs": [],
   "source": [
    "data = pp_df.select(\n",
    "    F.col(\"VectorAssembler_features\").alias(\"features\"),\n",
    "    F.col(\"isFraud\").alias(\"label\"),\n",
    ")"
   ]
  },
  {
   "cell_type": "code",
   "execution_count": 41,
   "id": "aa605b0b",
   "metadata": {
    "execution": {
     "iopub.execute_input": "2021-12-24T14:20:33.038912Z",
     "iopub.status.busy": "2021-12-24T14:20:33.038019Z",
     "iopub.status.idle": "2021-12-24T14:20:40.837290Z",
     "shell.execute_reply": "2021-12-24T14:20:40.838031Z",
     "shell.execute_reply.started": "2021-12-24T14:07:04.709463Z"
    },
    "papermill": {
     "duration": 8.02342,
     "end_time": "2021-12-24T14:20:40.838268",
     "exception": false,
     "start_time": "2021-12-24T14:20:32.814848",
     "status": "completed"
    },
    "tags": []
   },
   "outputs": [
    {
     "name": "stdout",
     "output_type": "stream",
     "text": [
      "+---------------------------------------------+-----+\n",
      "|features                                     |label|\n",
      "+---------------------------------------------+-----+\n",
      "|[5.66,5061561.06,5061566.72,0.0,0.0,1.0,0.0] |0    |\n",
      "|[13.86,6868100.18,6868114.04,0.0,0.0,1.0,0.0]|0    |\n",
      "|[14.54,3347286.5,3347301.03,0.0,0.0,1.0,0.0] |0    |\n",
      "|[15.52,4368030.06,4368045.59,0.0,0.0,1.0,0.0]|0    |\n",
      "|[17.33,8964056.72,8964074.05,0.0,0.0,1.0,0.0]|0    |\n",
      "+---------------------------------------------+-----+\n",
      "only showing top 5 rows\n",
      "\n"
     ]
    }
   ],
   "source": [
    "data.show(5, truncate=False)"
   ]
  },
  {
   "cell_type": "code",
   "execution_count": 42,
   "id": "b44d71c7",
   "metadata": {
    "execution": {
     "iopub.execute_input": "2021-12-24T14:20:41.267645Z",
     "iopub.status.busy": "2021-12-24T14:20:41.266655Z",
     "iopub.status.idle": "2021-12-24T14:21:45.272262Z",
     "shell.execute_reply": "2021-12-24T14:21:45.271357Z",
     "shell.execute_reply.started": "2021-12-24T14:07:11.049923Z"
    },
    "papermill": {
     "duration": 64.220888,
     "end_time": "2021-12-24T14:21:45.272502",
     "exception": false,
     "start_time": "2021-12-24T14:20:41.051614",
     "status": "completed"
    },
    "scrolled": true,
    "tags": []
   },
   "outputs": [
    {
     "name": "stdout",
     "output_type": "stream",
     "text": [
      "CPU times: total: 0 ns\n",
      "Wall time: 24.3 s\n"
     ]
    }
   ],
   "source": [
    "%%time\n",
    "model = LogisticRegression().fit(data)\n",
    "data=model.transform(data)\n"
   ]
  },
  {
   "cell_type": "code",
   "execution_count": 43,
   "id": "e6c44c93",
   "metadata": {
    "execution": {
     "iopub.execute_input": "2021-12-24T14:21:45.716164Z",
     "iopub.status.busy": "2021-12-24T14:21:45.715133Z",
     "iopub.status.idle": "2021-12-24T14:21:53.493180Z",
     "shell.execute_reply": "2021-12-24T14:21:53.492568Z",
     "shell.execute_reply.started": "2021-12-24T14:08:09.326921Z"
    },
    "papermill": {
     "duration": 7.998626,
     "end_time": "2021-12-24T14:21:53.493346",
     "exception": false,
     "start_time": "2021-12-24T14:21:45.494720",
     "status": "completed"
    },
    "tags": []
   },
   "outputs": [
    {
     "name": "stdout",
     "output_type": "stream",
     "text": [
      "+--------------------+-----+--------------------+-----------+----------+\n",
      "|            features|label|       rawPrediction|probability|prediction|\n",
      "+--------------------+-----+--------------------+-----------+----------+\n",
      "|[5.66,5061561.06,...|    0|[297.631026522620...|  [1.0,0.0]|       0.0|\n",
      "|[13.86,6868100.18...|    0|[301.242388859440...|  [1.0,0.0]|       0.0|\n",
      "|[14.54,3347286.5,...|    0|[294.205312913211...|  [1.0,0.0]|       0.0|\n",
      "|[15.52,4368030.06...|    0|[296.245566519871...|  [1.0,0.0]|       0.0|\n",
      "|[17.33,8964056.72...|    0|[305.431873076313...|  [1.0,0.0]|       0.0|\n",
      "|[25.01,3077402.04...|    0|[293.666648024759...|  [1.0,0.0]|       0.0|\n",
      "|[38.77,6210013.72...|    0|[299.928863067428...|  [1.0,0.0]|       0.0|\n",
      "|[52.64,3468172.49...|    0|[294.449692300089...|  [1.0,0.0]|       0.0|\n",
      "|[57.98,9021204.76...|    0|[305.549042497369...|  [1.0,0.0]|       0.0|\n",
      "|[66.78,61853.0,61...|    0|[287.642434339782...|  [1.0,0.0]|       0.0|\n",
      "|[71.85,1.68834513...|    0|[321.264486533158...|  [1.0,0.0]|       0.0|\n",
      "|[72.42,6183.0,625...|    0|[287.531574335131...|  [1.0,0.0]|       0.0|\n",
      "|[85.96,30214.0,30...|    0|[287.580587019953...|  [1.0,0.0]|       0.0|\n",
      "|[91.0,1.120136803...|    0|[309.908974353212...|  [1.0,0.0]|       0.0|\n",
      "|[92.06,1.72991512...|    0|[322.096819618828...|  [1.0,0.0]|       0.0|\n",
      "|[97.14,1.02173344...|    0|[307.942610651868...|  [1.0,0.0]|       0.0|\n",
      "|[100.29,135.0,235...|    0|[287.521506163800...|  [1.0,0.0]|       0.0|\n",
      "|[100.78,124671.66...|    0|[287.770455738765...|  [1.0,0.0]|       0.0|\n",
      "|[103.88,9419793.2...|    0|[306.349036727563...|  [1.0,0.0]|       0.0|\n",
      "|[119.66,8934438.1...|    0|[305.380090873552...|  [1.0,0.0]|       0.0|\n",
      "+--------------------+-----+--------------------+-----------+----------+\n",
      "only showing top 20 rows\n",
      "\n"
     ]
    }
   ],
   "source": [
    "data.show()"
   ]
  },
  {
   "cell_type": "markdown",
   "id": "0052763b",
   "metadata": {
    "papermill": {
     "duration": 0.222229,
     "end_time": "2021-12-24T14:21:53.934975",
     "exception": false,
     "start_time": "2021-12-24T14:21:53.712746",
     "status": "completed"
    },
    "tags": []
   },
   "source": [
    "## Model Testing"
   ]
  },
  {
   "cell_type": "markdown",
   "id": "58a91695",
   "metadata": {
    "papermill": {
     "duration": 0.21736,
     "end_time": "2021-12-24T14:21:54.374726",
     "exception": false,
     "start_time": "2021-12-24T14:21:54.157366",
     "status": "completed"
    },
    "tags": []
   },
   "source": [
    "**Preparing the test data by passing it to the pipeline**"
   ]
  },
  {
   "cell_type": "code",
   "execution_count": 44,
   "id": "368f8b94",
   "metadata": {
    "execution": {
     "iopub.execute_input": "2021-12-24T14:21:54.839321Z",
     "iopub.status.busy": "2021-12-24T14:21:54.838590Z",
     "iopub.status.idle": "2021-12-24T14:22:11.784225Z",
     "shell.execute_reply": "2021-12-24T14:22:11.783259Z",
     "shell.execute_reply.started": "2021-12-24T14:08:15.795847Z"
    },
    "papermill": {
     "duration": 17.190793,
     "end_time": "2021-12-24T14:22:11.784449",
     "exception": false,
     "start_time": "2021-12-24T14:21:54.593656",
     "status": "completed"
    },
    "tags": []
   },
   "outputs": [],
   "source": [
    "model = pipeline.fit(df_test)\n",
    "\n",
    "pp_df_test = model.transform(df_test)"
   ]
  },
  {
   "cell_type": "code",
   "execution_count": 45,
   "id": "6fb1405f",
   "metadata": {
    "execution": {
     "iopub.execute_input": "2021-12-24T14:22:12.242730Z",
     "iopub.status.busy": "2021-12-24T14:22:12.241986Z",
     "iopub.status.idle": "2021-12-24T14:22:12.256150Z",
     "shell.execute_reply": "2021-12-24T14:22:12.256754Z",
     "shell.execute_reply.started": "2021-12-24T14:08:29.442941Z"
    },
    "papermill": {
     "duration": 0.242547,
     "end_time": "2021-12-24T14:22:12.257001",
     "exception": false,
     "start_time": "2021-12-24T14:22:12.014454",
     "status": "completed"
    },
    "tags": []
   },
   "outputs": [],
   "source": [
    "data_test = pp_df_test.select(\n",
    "    F.col(\"VectorAssembler_features\").alias(\"features\"),\n",
    "    F.col(\"isFraud\").alias(\"label\"),\n",
    ")"
   ]
  },
  {
   "cell_type": "code",
   "execution_count": 46,
   "id": "9581b87e",
   "metadata": {
    "execution": {
     "iopub.execute_input": "2021-12-24T14:22:12.703369Z",
     "iopub.status.busy": "2021-12-24T14:22:12.702669Z",
     "iopub.status.idle": "2021-12-24T14:22:21.067975Z",
     "shell.execute_reply": "2021-12-24T14:22:21.067245Z",
     "shell.execute_reply.started": "2021-12-24T14:08:29.465089Z"
    },
    "papermill": {
     "duration": 8.588091,
     "end_time": "2021-12-24T14:22:21.068141",
     "exception": false,
     "start_time": "2021-12-24T14:22:12.480050",
     "status": "completed"
    },
    "tags": []
   },
   "outputs": [
    {
     "name": "stdout",
     "output_type": "stream",
     "text": [
      "+---------------------------+-----+\n",
      "|features                   |label|\n",
      "+---------------------------+-----+\n",
      "|[13707.11,13707.11,0.0,0.0]|1    |\n",
      "|[14949.84,14949.84,0.0,0.0]|1    |\n",
      "|[22877.0,22877.0,0.0,0.0]  |1    |\n",
      "|[29707.86,29707.86,0.0,0.0]|1    |\n",
      "|[33332.86,33332.86,0.0,0.0]|1    |\n",
      "+---------------------------+-----+\n",
      "only showing top 5 rows\n",
      "\n"
     ]
    }
   ],
   "source": [
    "data_test.show(5, truncate=False)"
   ]
  },
  {
   "cell_type": "code",
   "execution_count": 47,
   "id": "b2b09457",
   "metadata": {
    "execution": {
     "iopub.execute_input": "2021-12-24T14:22:21.517891Z",
     "iopub.status.busy": "2021-12-24T14:22:21.516770Z",
     "iopub.status.idle": "2021-12-24T14:22:47.097988Z",
     "shell.execute_reply": "2021-12-24T14:22:47.098864Z",
     "shell.execute_reply.started": "2021-12-24T14:08:35.877787Z"
    },
    "papermill": {
     "duration": 25.810425,
     "end_time": "2021-12-24T14:22:47.099200",
     "exception": false,
     "start_time": "2021-12-24T14:22:21.288775",
     "status": "completed"
    },
    "tags": []
   },
   "outputs": [
    {
     "name": "stdout",
     "output_type": "stream",
     "text": [
      "+--------------------+-----+--------------------+-----------+----------+\n",
      "|            features|label|       rawPrediction|probability|prediction|\n",
      "+--------------------+-----+--------------------+-----------+----------+\n",
      "|[13707.11,13707.1...|    1|[-Infinity,Infinity]|  [0.0,1.0]|       1.0|\n",
      "|[14949.84,14949.8...|    1|[-Infinity,Infinity]|  [0.0,1.0]|       1.0|\n",
      "|[22877.0,22877.0,...|    1|[-Infinity,Infinity]|  [0.0,1.0]|       1.0|\n",
      "|[29707.86,29707.8...|    1|[-Infinity,Infinity]|  [0.0,1.0]|       1.0|\n",
      "|[33332.86,33332.8...|    1|[-Infinity,Infinity]|  [0.0,1.0]|       1.0|\n",
      "|  (4,[0],[39713.28])|    1|[-Infinity,Infinity]|  [0.0,1.0]|       1.0|\n",
      "|[48375.02,48375.0...|    1|[-Infinity,Infinity]|  [0.0,1.0]|       1.0|\n",
      "|[59835.0,59835.0,...|    1|[-Infinity,Infinity]|  [0.0,1.0]|       1.0|\n",
      "|[65488.05,65488.0...|    1|[-Infinity,Infinity]|  [0.0,1.0]|       1.0|\n",
      "|[85354.69,85354.6...|    1|[-Infinity,Infinity]|  [0.0,1.0]|       1.0|\n",
      "|[86070.17,86070.1...|    1|[-Infinity,Infinity]|  [0.0,1.0]|       1.0|\n",
      "|[89631.24,89631.2...|    1|[-Infinity,Infinity]|  [0.0,1.0]|       1.0|\n",
      "|[132842.64,4499.0...|    1|[-Infinity,Infinity]|  [0.0,1.0]|       1.0|\n",
      "|[169941.73,169941...|    1|[-Infinity,Infinity]|  [0.0,1.0]|       1.0|\n",
      "| (4,[0],[181728.11])|    1|[-Infinity,Infinity]|  [0.0,1.0]|       1.0|\n",
      "|[235238.66,235238...|    1|[-Infinity,Infinity]|  [0.0,1.0]|       1.0|\n",
      "|[244068.01,244068...|    1|[-Infinity,Infinity]|  [0.0,1.0]|       1.0|\n",
      "|[262434.54,262434...|    1|[-Infinity,Infinity]|  [0.0,1.0]|       1.0|\n",
      "| (4,[0],[277970.88])|    1|[-Infinity,Infinity]|  [0.0,1.0]|       1.0|\n",
      "|[350705.74,350705...|    1|[-Infinity,Infinity]|  [0.0,1.0]|       1.0|\n",
      "+--------------------+-----+--------------------+-----------+----------+\n",
      "only showing top 20 rows\n",
      "\n"
     ]
    }
   ],
   "source": [
    "model = LogisticRegression().fit(data_test)\n",
    "data=model.transform(data_test)\n",
    "data.show()"
   ]
  },
  {
   "cell_type": "code",
   "execution_count": 48,
   "id": "c88c682d",
   "metadata": {
    "execution": {
     "iopub.execute_input": "2021-12-24T14:22:47.546963Z",
     "iopub.status.busy": "2021-12-24T14:22:47.546303Z",
     "iopub.status.idle": "2021-12-24T14:22:47.555011Z",
     "shell.execute_reply": "2021-12-24T14:22:47.555548Z",
     "shell.execute_reply.started": "2021-12-24T14:08:58.002074Z"
    },
    "papermill": {
     "duration": 0.235018,
     "end_time": "2021-12-24T14:22:47.555744",
     "exception": false,
     "start_time": "2021-12-24T14:22:47.320726",
     "status": "completed"
    },
    "tags": []
   },
   "outputs": [
    {
     "data": {
      "text/plain": [
       "<bound method DataFrame.limit of DataFrame[type: string, amount: double, oldbalanceOrg: double, newbalanceOrig: double, isFraud: int]>"
      ]
     },
     "execution_count": 48,
     "metadata": {},
     "output_type": "execute_result"
    }
   ],
   "source": [
    "df.limit"
   ]
  },
  {
   "cell_type": "code",
   "execution_count": 49,
   "id": "73e490ac",
   "metadata": {
    "execution": {
     "iopub.execute_input": "2021-12-24T14:22:48.014007Z",
     "iopub.status.busy": "2021-12-24T14:22:48.013243Z",
     "iopub.status.idle": "2021-12-24T14:23:04.838933Z",
     "shell.execute_reply": "2021-12-24T14:23:04.838093Z",
     "shell.execute_reply.started": "2021-12-24T14:08:58.015891Z"
    },
    "papermill": {
     "duration": 17.055312,
     "end_time": "2021-12-24T14:23:04.839160",
     "exception": false,
     "start_time": "2021-12-24T14:22:47.783848",
     "status": "completed"
    },
    "tags": []
   },
   "outputs": [
    {
     "data": {
      "text/plain": [
       "1.0"
      ]
     },
     "execution_count": 49,
     "metadata": {},
     "output_type": "execute_result"
    }
   ],
   "source": [
    "model.summary.areaUnderROC"
   ]
  },
  {
   "cell_type": "code",
   "execution_count": 50,
   "id": "0c5a4f08",
   "metadata": {
    "execution": {
     "iopub.execute_input": "2021-12-24T14:23:05.455017Z",
     "iopub.status.busy": "2021-12-24T14:23:05.453985Z",
     "iopub.status.idle": "2021-12-24T14:23:05.837960Z",
     "shell.execute_reply": "2021-12-24T14:23:05.836915Z",
     "shell.execute_reply.started": "2021-12-24T14:09:13.287622Z"
    },
    "papermill": {
     "duration": 0.618781,
     "end_time": "2021-12-24T14:23:05.838221",
     "exception": false,
     "start_time": "2021-12-24T14:23:05.219440",
     "status": "completed"
    },
    "tags": []
   },
   "outputs": [
    {
     "name": "stdout",
     "output_type": "stream",
     "text": [
      "+------+---------+\n",
      "|recall|precision|\n",
      "+------+---------+\n",
      "|   0.0|      1.0|\n",
      "|   1.0|      1.0|\n",
      "+------+---------+\n",
      "\n"
     ]
    }
   ],
   "source": [
    "model.summary.pr.show()"
   ]
  },
  {
   "cell_type": "code",
   "execution_count": 51,
   "metadata": {},
   "outputs": [
    {
     "name": "stdout",
     "output_type": "stream",
     "text": [
      "Requirement already satisfied: pymongo[srv] in c:\\users\\arya bhatt\\anaconda3\\lib\\site-packages (4.6.2)\n",
      "Requirement already satisfied: dnspython<3.0.0,>=1.16.0 in c:\\users\\arya bhatt\\anaconda3\\lib\\site-packages (from pymongo[srv]) (2.6.1)\n",
      "Note: you may need to restart the kernel to use updated packages.\n"
     ]
    },
    {
     "name": "stderr",
     "output_type": "stream",
     "text": [
      "DEPRECATION: mermaid 0.3.2 has a non-standard dependency specifier torch>=1.7torchvision. pip 23.3 will enforce this behaviour change. A possible replacement is to upgrade to a newer version of mermaid or contact the author to suggest that they release a version with a conforming dependency specifiers. Discussion can be found at https://github.com/pypa/pip/issues/12063\n"
     ]
    }
   ],
   "source": [
    "pip install \"pymongo[srv]\""
   ]
  },
  {
   "cell_type": "code",
   "execution_count": 52,
   "metadata": {},
   "outputs": [],
   "source": [
    "from pymongo import MongoClient\n",
    "\n",
    "# Connect to MongoDB (same as your previous code)\n",
    "client = MongoClient(host=['localhost:27017'], document_class=dict, tz_aware=False)\n",
    "db = client[\"test\"]  # Access the \"bdt\" database\n",
    "collection = db[\"bdt\"]  # Access the \"bdt\" collection within \"bdt\" database"
   ]
  },
  {
   "cell_type": "code",
   "execution_count": 53,
   "metadata": {},
   "outputs": [
    {
     "name": "stdout",
     "output_type": "stream",
     "text": [
      "Details for nameOrig C1231006815:\n",
      "{'_id': ObjectId('6604284316ae4e14301d7dd2'), 'step': 1, 'type': 'PAYMENT', 'amount': 9839.64, 'nameOrig': 'C1231006815', 'oldbalanceOrg': 170136.0, 'newbalanceOrig': 160296.36, 'nameDest': 'M1979787155', 'oldbalanceDest': 0.0, 'newbalanceDest': 0.0, 'isFraud': 0, 'isFlaggedFraud': 0}\n"
     ]
    }
   ],
   "source": [
    "target_name_orig = \"C1231006815\"\n",
    "\n",
    "query = {\"nameOrig\": target_name_orig}\n",
    "item_details = collection.find_one(query)\n",
    "\n",
    "if item_details:\n",
    "    print(f\"Details for nameOrig {target_name_orig}:\\n{item_details}\")\n",
    "else:\n",
    "    print(f\"No matching record found for nameOrig {target_name_orig}\")"
   ]
  },
  {
   "cell_type": "code",
   "execution_count": 55,
   "metadata": {},
   "outputs": [
    {
     "name": "stdout",
     "output_type": "stream",
     "text": [
      "Value: 1, Count: 8213\n",
      "Value: 0, Count: 6354407\n"
     ]
    }
   ],
   "source": [
    "pipeline = [\n",
    "    {\"$group\": {\"_id\": \"$isFraud\", \"count\": {\"$sum\": 1}}}\n",
    "]\n",
    "\n",
    "result = collection.aggregate(pipeline)\n",
    "\n",
    "for entry in result:\n",
    "    print(f\"Value: {entry['_id']}, Count: {entry['count']}\")"
   ]
  },
  {
   "cell_type": "code",
   "execution_count": 56,
   "metadata": {},
   "outputs": [
    {
     "name": "stdout",
     "output_type": "stream",
     "text": [
      "Value: TRANSFER, Count: 532909\n",
      "Value: PAYMENT, Count: 2151495\n",
      "Value: DEBIT, Count: 41432\n",
      "Value: CASH_OUT, Count: 2237500\n",
      "Value: CASH_IN, Count: 1399284\n"
     ]
    }
   ],
   "source": [
    "pipeline = [\n",
    "    {\"$group\": {\"_id\": \"$type\", \"count\": {\"$sum\": 1}}}\n",
    "]\n",
    "\n",
    "result = collection.aggregate(pipeline)\n",
    "\n",
    "for entry in result:\n",
    "    print(f\"Value: {entry['_id']}, Count: {entry['count']}\")"
   ]
  },
  {
   "cell_type": "code",
   "execution_count": 57,
   "metadata": {},
   "outputs": [
    {
     "name": "stdout",
     "output_type": "stream",
     "text": [
      "Type: CASH_OUT, isFraud: 1, Count: 4116\n",
      "Type: DEBIT, isFraud: 0, Count: 41432\n",
      "Type: CASH_OUT, isFraud: 0, Count: 2233384\n",
      "Type: TRANSFER, isFraud: 0, Count: 528812\n",
      "Type: CASH_IN, isFraud: 0, Count: 1399284\n",
      "Type: PAYMENT, isFraud: 0, Count: 2151495\n",
      "Type: TRANSFER, isFraud: 1, Count: 4097\n"
     ]
    }
   ],
   "source": [
    "pipeline = [\n",
    "    {\n",
    "        \"$group\": {\n",
    "            \"_id\": {\"type\": \"$type\", \"isFraud\": \"$isFraud\"},\n",
    "            \"count\": {\"$sum\": 1}\n",
    "        }\n",
    "    },\n",
    "    {\n",
    "        \"$project\": {\n",
    "            \"_id\": 0,\n",
    "            \"type\": \"$_id.type\",\n",
    "            \"isFraud\": \"$_id.isFraud\",\n",
    "            \"count\": \"$count\"\n",
    "        }\n",
    "    }\n",
    "]\n",
    "\n",
    "result = collection.aggregate(pipeline)\n",
    "for entry in result:\n",
    "    print(f\"Type: {entry['type']}, isFraud: {entry['isFraud']}, Count: {entry['count']}\")"
   ]
  }
 ],
 "metadata": {
  "kernelspec": {
   "display_name": "Python 3 (ipykernel)",
   "language": "python",
   "name": "python3"
  },
  "language_info": {
   "codemirror_mode": {
    "name": "ipython",
    "version": 3
   },
   "file_extension": ".py",
   "mimetype": "text/x-python",
   "name": "python",
   "nbconvert_exporter": "python",
   "pygments_lexer": "ipython3",
   "version": "3.11.5"
  },
  "papermill": {
   "default_parameters": {},
   "duration": 444.332077,
   "end_time": "2021-12-24T14:23:07.008196",
   "environment_variables": {},
   "exception": null,
   "input_path": "__notebook__.ipynb",
   "output_path": "__notebook__.ipynb",
   "parameters": {},
   "start_time": "2021-12-24T14:15:42.676119",
   "version": "2.3.3"
  }
 },
 "nbformat": 4,
 "nbformat_minor": 5
}
